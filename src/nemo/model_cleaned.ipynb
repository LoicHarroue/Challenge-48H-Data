{
 "cells": [
  {
   "cell_type": "code",
   "execution_count": 6,
   "id": "initial_id",
   "metadata": {
    "ExecuteTime": {
     "end_time": "2025-03-31T14:08:54.234577Z",
     "start_time": "2025-03-31T14:08:54.191064Z"
    },
    "collapsed": true
   },
   "outputs": [
    {
     "name": "stdout",
     "output_type": "stream",
     "text": [
      "<class 'pandas.core.frame.DataFrame'>\n",
      "RangeIndex: 1460 entries, 0 to 1459\n",
      "Data columns (total 81 columns):\n",
      " #   Column         Non-Null Count  Dtype  \n",
      "---  ------         --------------  -----  \n",
      " 0   Id             1460 non-null   int64  \n",
      " 1   MSSubClass     1460 non-null   int64  \n",
      " 2   MSZoning       1460 non-null   object \n",
      " 3   LotFrontage    1201 non-null   float64\n",
      " 4   LotArea        1460 non-null   int64  \n",
      " 5   Street         1460 non-null   object \n",
      " 6   Alley          91 non-null     object \n",
      " 7   LotShape       1460 non-null   object \n",
      " 8   LandContour    1460 non-null   object \n",
      " 9   Utilities      1460 non-null   object \n",
      " 10  LotConfig      1460 non-null   object \n",
      " 11  LandSlope      1460 non-null   object \n",
      " 12  Neighborhood   1460 non-null   object \n",
      " 13  Condition1     1460 non-null   object \n",
      " 14  Condition2     1460 non-null   object \n",
      " 15  BldgType       1460 non-null   object \n",
      " 16  HouseStyle     1460 non-null   object \n",
      " 17  OverallQual    1460 non-null   int64  \n",
      " 18  OverallCond    1460 non-null   int64  \n",
      " 19  YearBuilt      1460 non-null   int64  \n",
      " 20  YearRemodAdd   1460 non-null   int64  \n",
      " 21  RoofStyle      1460 non-null   object \n",
      " 22  RoofMatl       1460 non-null   object \n",
      " 23  Exterior1st    1460 non-null   object \n",
      " 24  Exterior2nd    1460 non-null   object \n",
      " 25  MasVnrType     588 non-null    object \n",
      " 26  MasVnrArea     1452 non-null   float64\n",
      " 27  ExterQual      1460 non-null   object \n",
      " 28  ExterCond      1460 non-null   object \n",
      " 29  Foundation     1460 non-null   object \n",
      " 30  BsmtQual       1423 non-null   object \n",
      " 31  BsmtCond       1423 non-null   object \n",
      " 32  BsmtExposure   1422 non-null   object \n",
      " 33  BsmtFinType1   1423 non-null   object \n",
      " 34  BsmtFinSF1     1460 non-null   int64  \n",
      " 35  BsmtFinType2   1422 non-null   object \n",
      " 36  BsmtFinSF2     1460 non-null   int64  \n",
      " 37  BsmtUnfSF      1460 non-null   int64  \n",
      " 38  TotalBsmtSF    1460 non-null   int64  \n",
      " 39  Heating        1460 non-null   object \n",
      " 40  HeatingQC      1460 non-null   object \n",
      " 41  CentralAir     1460 non-null   object \n",
      " 42  Electrical     1459 non-null   object \n",
      " 43  1stFlrSF       1460 non-null   int64  \n",
      " 44  2ndFlrSF       1460 non-null   int64  \n",
      " 45  LowQualFinSF   1460 non-null   int64  \n",
      " 46  GrLivArea      1460 non-null   int64  \n",
      " 47  BsmtFullBath   1460 non-null   int64  \n",
      " 48  BsmtHalfBath   1460 non-null   int64  \n",
      " 49  FullBath       1460 non-null   int64  \n",
      " 50  HalfBath       1460 non-null   int64  \n",
      " 51  BedroomAbvGr   1460 non-null   int64  \n",
      " 52  KitchenAbvGr   1460 non-null   int64  \n",
      " 53  KitchenQual    1460 non-null   object \n",
      " 54  TotRmsAbvGrd   1460 non-null   int64  \n",
      " 55  Functional     1460 non-null   object \n",
      " 56  Fireplaces     1460 non-null   int64  \n",
      " 57  FireplaceQu    770 non-null    object \n",
      " 58  GarageType     1379 non-null   object \n",
      " 59  GarageYrBlt    1379 non-null   float64\n",
      " 60  GarageFinish   1379 non-null   object \n",
      " 61  GarageCars     1460 non-null   int64  \n",
      " 62  GarageArea     1460 non-null   int64  \n",
      " 63  GarageQual     1379 non-null   object \n",
      " 64  GarageCond     1379 non-null   object \n",
      " 65  PavedDrive     1460 non-null   object \n",
      " 66  WoodDeckSF     1460 non-null   int64  \n",
      " 67  OpenPorchSF    1460 non-null   int64  \n",
      " 68  EnclosedPorch  1460 non-null   int64  \n",
      " 69  3SsnPorch      1460 non-null   int64  \n",
      " 70  ScreenPorch    1460 non-null   int64  \n",
      " 71  PoolArea       1460 non-null   int64  \n",
      " 72  PoolQC         7 non-null      object \n",
      " 73  Fence          281 non-null    object \n",
      " 74  MiscFeature    54 non-null     object \n",
      " 75  MiscVal        1460 non-null   int64  \n",
      " 76  MoSold         1460 non-null   int64  \n",
      " 77  YrSold         1460 non-null   int64  \n",
      " 78  SaleType       1460 non-null   object \n",
      " 79  SaleCondition  1460 non-null   object \n",
      " 80  SalePrice      1460 non-null   int64  \n",
      "dtypes: float64(3), int64(35), object(43)\n",
      "memory usage: 924.0+ KB\n"
     ]
    },
    {
     "data": {
      "text/plain": [
       "(   Id  MSSubClass MSZoning  LotFrontage  LotArea Street Alley LotShape  \\\n",
       " 0   1          60       RL         65.0     8450   Pave   NaN      Reg   \n",
       " 1   2          20       RL         80.0     9600   Pave   NaN      Reg   \n",
       " 2   3          60       RL         68.0    11250   Pave   NaN      IR1   \n",
       " 3   4          70       RL         60.0     9550   Pave   NaN      IR1   \n",
       " 4   5          60       RL         84.0    14260   Pave   NaN      IR1   \n",
       " \n",
       "   LandContour Utilities  ... PoolArea PoolQC Fence MiscFeature MiscVal MoSold  \\\n",
       " 0         Lvl    AllPub  ...        0    NaN   NaN         NaN       0      2   \n",
       " 1         Lvl    AllPub  ...        0    NaN   NaN         NaN       0      5   \n",
       " 2         Lvl    AllPub  ...        0    NaN   NaN         NaN       0      9   \n",
       " 3         Lvl    AllPub  ...        0    NaN   NaN         NaN       0      2   \n",
       " 4         Lvl    AllPub  ...        0    NaN   NaN         NaN       0     12   \n",
       " \n",
       "   YrSold  SaleType  SaleCondition  SalePrice  \n",
       " 0   2008        WD         Normal     208500  \n",
       " 1   2007        WD         Normal     181500  \n",
       " 2   2008        WD         Normal     223500  \n",
       " 3   2006        WD        Abnorml     140000  \n",
       " 4   2008        WD         Normal     250000  \n",
       " \n",
       " [5 rows x 81 columns],\n",
       " None)"
      ]
     },
     "execution_count": 6,
     "metadata": {},
     "output_type": "execute_result"
    }
   ],
   "source": [
    "import pandas as pd\n",
    "\n",
    "# Charger le fichier CSV\n",
    "file_path = \"../data/raw/train.csv\"\n",
    "df = pd.read_csv(file_path)\n",
    "\n",
    "# Afficher les premières lignes et les informations générales\n",
    "df.head(), df.info()\n"
   ]
  },
  {
   "cell_type": "code",
   "execution_count": 7,
   "id": "11f20c72a75a2dc1",
   "metadata": {
    "ExecuteTime": {
     "end_time": "2025-03-31T14:38:39.670607Z",
     "start_time": "2025-03-31T14:38:39.603374Z"
    }
   },
   "outputs": [
    {
     "name": "stdout",
     "output_type": "stream",
     "text": [
      "Prétraitement terminé. X_train prêt pour l'entraînement du modèle.\n"
     ]
    }
   ],
   "source": [
    "import numpy as np\n",
    "from sklearn.model_selection import train_test_split\n",
    "from sklearn.preprocessing import OneHotEncoder\n",
    "from sklearn.impute import SimpleImputer\n",
    "from sklearn.pipeline import Pipeline\n",
    "from sklearn.compose import ColumnTransformer\n",
    "\n",
    "X = df.drop(columns=[\"SalePrice\", \"Id\"])\n",
    "y = df[\"SalePrice\"]\n",
    "\n",
    "# Identifier les colonnes numériques et catégoriques\n",
    "num_features = X.select_dtypes(include=[\"int64\", \"float64\"]).columns\n",
    "cat_features = X.select_dtypes(include=[\"object\", \"category\"]).columns\n",
    "\n",
    "# Pipelines de transformation\n",
    "num_pipeline = Pipeline([\n",
    "    (\"imputer\", SimpleImputer(strategy=\"median\"))\n",
    "])\n",
    "\n",
    "cat_pipeline = Pipeline([\n",
    "    (\"imputer\", SimpleImputer(strategy=\"constant\", fill_value=\"None\")),\n",
    "    (\"encoder\", OneHotEncoder(handle_unknown=\"ignore\", sparse_output=False))\n",
    "])\n",
    "\n",
    "# Transformer les colonnes\n",
    "preprocessor = ColumnTransformer([\n",
    "    (\"num\", num_pipeline, num_features),\n",
    "    (\"cat\", cat_pipeline, cat_features)\n",
    "])\n",
    "\n",
    "# Appliquer la transformation\n",
    "X_processed = preprocessor.fit_transform(X)\n",
    "X_processed = np.array(X_processed)  # Convertir en tableau numpy\n",
    "\n",
    "# Séparer en train/test\n",
    "X_train, X_test, y_train, y_test = train_test_split(X_processed, y, test_size=0.2, random_state=42)\n",
    "\n",
    "print(\"Prétraitement terminé. X_train prêt pour l'entraînement du modèle.\")\n"
   ]
  },
  {
   "cell_type": "code",
   "execution_count": 8,
   "id": "4d3509cb45019b6f",
   "metadata": {
    "ExecuteTime": {
     "end_time": "2025-03-31T14:40:49.218327Z",
     "start_time": "2025-03-31T14:40:45.718171Z"
    }
   },
   "outputs": [
    {
     "name": "stdout",
     "output_type": "stream",
     "text": [
      "Mean Absolute Error: 17776.588732876713\n"
     ]
    }
   ],
   "source": [
    "from sklearn.ensemble import RandomForestRegressor\n",
    "from sklearn.metrics import mean_absolute_error\n",
    "\n",
    "# Initialiser le modèle\n",
    "model = RandomForestRegressor(n_estimators=100, random_state=42)\n",
    "\n",
    "# Entraîner le modèle\n",
    "model.fit(X_train, y_train)\n",
    "\n",
    "# Prédire sur l'ensemble de test\n",
    "y_pred = model.predict(X_test)\n",
    "\n",
    "# Évaluer la performance\n",
    "mae = mean_absolute_error(y_test, y_pred)\n",
    "print(f\"Mean Absolute Error: {mae}\")\n"
   ]
  },
  {
   "cell_type": "code",
   "execution_count": null,
   "id": "5d4b5a0773190cc",
   "metadata": {
    "ExecuteTime": {
     "end_time": "2025-03-31T14:53:26.240895Z",
     "start_time": "2025-03-31T14:53:19.551631Z"
    }
   },
   "outputs": [
    {
     "name": "stdout",
     "output_type": "stream",
     "text": [
      "\n",
      "Training Linear Regression...\n",
      "✅ Résultats enregistrés dans 'linear_regression_submission_cleaned.csv'\n",
      "\n",
      "Training Random Forest...\n",
      "✅ Résultats enregistrés dans 'random_forest_submission_cleaned.csv'\n",
      "\n",
      "Training CatBoost...\n",
      "0:\tlearn: 76741.2780640\ttotal: 4.48ms\tremaining: 2.23s\n",
      "100:\tlearn: 20705.1145239\ttotal: 399ms\tremaining: 1.58s\n",
      "200:\tlearn: 16080.8567385\ttotal: 808ms\tremaining: 1.2s\n",
      "300:\tlearn: 13652.2245176\ttotal: 1.31s\tremaining: 866ms\n",
      "400:\tlearn: 11576.2833709\ttotal: 1.7s\tremaining: 420ms\n",
      "499:\tlearn: 9958.1660562\ttotal: 2.09s\tremaining: 0us\n",
      "✅ Résultats enregistrés dans 'catboost_submission_cleaned.csv'\n",
      "\n",
      "📊 Comparaison des modèles terminée !\n"
     ]
    }
   ],
   "source": [
    "import pandas as pd\n",
    "from sklearn.linear_model import LinearRegression\n",
    "from sklearn.ensemble import RandomForestRegressor\n",
    "from catboost import CatBoostRegressor\n",
    "\n",
    "# 1. Charger les datasets nettoyés\n",
    "df_train = pd.read_csv(\"train_cleaned.csv\")\n",
    "df_test = pd.read_csv(\"test_cleaned.csv\")\n",
    "\n",
    "# 2. Séparer les variables\n",
    "X_train = df_train.drop(columns=[\"SalePrice\"])\n",
    "y_train = df_train[\"SalePrice\"]\n",
    "X_test = df_test.copy()\n",
    "\n",
    "# 3. Gérer les valeurs manquantes\n",
    "X_train = X_train.fillna(X_train.median(numeric_only=True))\n",
    "X_test = X_test.fillna(X_train.median(numeric_only=True))  # on utilise la médiane de train pour éviter la fuite\n",
    "\n",
    "# 4. Modèles\n",
    "models = {\n",
    "    \"Linear Regression\": LinearRegression(),\n",
    "    \"Random Forest\": RandomForestRegressor(n_estimators=100, random_state=42),\n",
    "    \"CatBoost\": CatBoostRegressor(iterations=500, learning_rate=0.05, depth=6, verbose=100)\n",
    "}\n",
    "\n",
    "# 5. Entraînement & Prédictions\n",
    "for name, model in models.items():\n",
    "    print(f\"\\nTraining {name}...\")\n",
    "    model.fit(X_train, y_train)\n",
    "    y_pred = model.predict(X_test)\n",
    "\n",
    "    # 🔁 Sauvegarder les prédictions dans un fichier CSV\n",
    "    filename = f\"{name.lower().replace(' ', '_')}_submission_cleaned.csv\"\n",
    "    submission = pd.DataFrame({\n",
    "        \"Id\": df_test[\"Id\"],\n",
    "        \"SalePrice\": y_pred\n",
    "    })\n",
    "    submission.to_csv(filename, index=False)\n",
    "    print(f\"✅ Résultats enregistrés dans '{filename}'\")\n",
    "\n",
    "print(\"\\n📊 Comparaison des modèles terminée !\")\n"
   ]
  }
 ],
 "metadata": {
  "kernelspec": {
   "display_name": "base",
   "language": "python",
   "name": "python3"
  },
  "language_info": {
   "codemirror_mode": {
    "name": "ipython",
    "version": 3
   },
   "file_extension": ".py",
   "mimetype": "text/x-python",
   "name": "python",
   "nbconvert_exporter": "python",
   "pygments_lexer": "ipython3",
   "version": "3.11.7"
  }
 },
 "nbformat": 4,
 "nbformat_minor": 5
}
