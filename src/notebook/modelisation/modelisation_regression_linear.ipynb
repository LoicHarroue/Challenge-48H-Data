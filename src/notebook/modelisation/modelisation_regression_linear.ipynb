{
 "cells": [
  {
   "cell_type": "code",
   "id": "initial_id",
   "metadata": {
    "collapsed": true,
    "ExecuteTime": {
     "end_time": "2025-04-01T12:15:46.402129Z",
     "start_time": "2025-04-01T12:15:46.385146Z"
    }
   },
   "source": [
    "import pandas as pd\n",
    "from sklearn.model_selection import train_test_split\n",
    "from sklearn.preprocessing import StandardScaler\n",
    "from sklearn.metrics import mean_squared_error\n",
    "from sklearn.linear_model import Ridge, Lasso\n",
    "from sklearn.impute import SimpleImputer"
   ],
   "outputs": [],
   "execution_count": 138
  },
  {
   "metadata": {
    "ExecuteTime": {
     "end_time": "2025-04-01T12:15:46.667582Z",
     "start_time": "2025-04-01T12:15:46.638580Z"
    }
   },
   "cell_type": "code",
   "source": "df_train = pd.read_csv('../../data/processed/train.csv')",
   "id": "a3aa5cb5d69efd4f",
   "outputs": [],
   "execution_count": 139
  },
  {
   "metadata": {
    "ExecuteTime": {
     "end_time": "2025-04-01T12:15:46.919072Z",
     "start_time": "2025-04-01T12:15:46.908661Z"
    }
   },
   "cell_type": "code",
   "source": [
    "X = df_train.drop('remainder__SalePrice', axis=1)\n",
    "y = df_train['remainder__SalePrice']"
   ],
   "id": "f40442d8be5ab913",
   "outputs": [],
   "execution_count": 140
  },
  {
   "metadata": {
    "ExecuteTime": {
     "end_time": "2025-04-01T12:15:47.116875Z",
     "start_time": "2025-04-01T12:15:47.088461Z"
    }
   },
   "cell_type": "code",
   "source": "X.info()",
   "id": "181db5578fe0b703",
   "outputs": [
    {
     "name": "stdout",
     "output_type": "stream",
     "text": [
      "<class 'pandas.core.frame.DataFrame'>\n",
      "RangeIndex: 1349 entries, 0 to 1348\n",
      "Data columns (total 52 columns):\n",
      " #   Column                     Non-Null Count  Dtype  \n",
      "---  ------                     --------------  -----  \n",
      " 0   cat__Neighborhood_Blmngtn  1349 non-null   float64\n",
      " 1   cat__Neighborhood_Blueste  1349 non-null   float64\n",
      " 2   cat__Neighborhood_BrDale   1349 non-null   float64\n",
      " 3   cat__Neighborhood_BrkSide  1349 non-null   float64\n",
      " 4   cat__Neighborhood_ClearCr  1349 non-null   float64\n",
      " 5   cat__Neighborhood_CollgCr  1349 non-null   float64\n",
      " 6   cat__Neighborhood_Crawfor  1349 non-null   float64\n",
      " 7   cat__Neighborhood_Edwards  1349 non-null   float64\n",
      " 8   cat__Neighborhood_Gilbert  1349 non-null   float64\n",
      " 9   cat__Neighborhood_IDOTRR   1349 non-null   float64\n",
      " 10  cat__Neighborhood_MeadowV  1349 non-null   float64\n",
      " 11  cat__Neighborhood_Mitchel  1349 non-null   float64\n",
      " 12  cat__Neighborhood_NAmes    1349 non-null   float64\n",
      " 13  cat__Neighborhood_NPkVill  1349 non-null   float64\n",
      " 14  cat__Neighborhood_NWAmes   1349 non-null   float64\n",
      " 15  cat__Neighborhood_NoRidge  1349 non-null   float64\n",
      " 16  cat__Neighborhood_NridgHt  1349 non-null   float64\n",
      " 17  cat__Neighborhood_OldTown  1349 non-null   float64\n",
      " 18  cat__Neighborhood_SWISU    1349 non-null   float64\n",
      " 19  cat__Neighborhood_Sawyer   1349 non-null   float64\n",
      " 20  cat__Neighborhood_SawyerW  1349 non-null   float64\n",
      " 21  cat__Neighborhood_Somerst  1349 non-null   float64\n",
      " 22  cat__Neighborhood_StoneBr  1349 non-null   float64\n",
      " 23  cat__Neighborhood_Timber   1349 non-null   float64\n",
      " 24  cat__Neighborhood_Veenker  1349 non-null   float64\n",
      " 25  cat__MSZoning_C (all)      1349 non-null   float64\n",
      " 26  cat__MSZoning_FV           1349 non-null   float64\n",
      " 27  cat__MSZoning_RH           1349 non-null   float64\n",
      " 28  cat__MSZoning_RL           1349 non-null   float64\n",
      " 29  cat__MSZoning_RM           1349 non-null   float64\n",
      " 30  remainder__Id              1349 non-null   int64  \n",
      " 31  remainder__LotArea         1349 non-null   int64  \n",
      " 32  remainder__GrLivArea       1349 non-null   int64  \n",
      " 33  remainder__TotalBsmtSF     1349 non-null   int64  \n",
      " 34  remainder__1stFlrSF        1349 non-null   int64  \n",
      " 35  remainder__2ndFlrSF        1349 non-null   int64  \n",
      " 36  remainder__GarageArea      1349 non-null   int64  \n",
      " 37  remainder__WoodDeckSF      1349 non-null   int64  \n",
      " 38  remainder__YearBuilt       1349 non-null   int64  \n",
      " 39  remainder__OverallQual     1349 non-null   int64  \n",
      " 40  remainder__OverallCond     1349 non-null   int64  \n",
      " 41  remainder__ExterQual       1349 non-null   int64  \n",
      " 42  remainder__KitchenQual     1349 non-null   int64  \n",
      " 43  remainder__GarageQual      1349 non-null   int64  \n",
      " 44  remainder__BsmtQual        1349 non-null   int64  \n",
      " 45  remainder__YearRemodAdd    1349 non-null   int64  \n",
      " 46  remainder__GarageYrBlt     1349 non-null   float64\n",
      " 47  remainder__Fireplaces      1349 non-null   int64  \n",
      " 48  remainder__BsmtFullBath    1349 non-null   int64  \n",
      " 49  remainder__FullBath        1349 non-null   int64  \n",
      " 50  remainder__BedroomAbvGr    1349 non-null   int64  \n",
      " 51  remainder__KitchenAbvGr    1349 non-null   int64  \n",
      "dtypes: float64(31), int64(21)\n",
      "memory usage: 548.2 KB\n"
     ]
    }
   ],
   "execution_count": 141
  },
  {
   "metadata": {
    "ExecuteTime": {
     "end_time": "2025-04-01T12:15:47.275772Z",
     "start_time": "2025-04-01T12:15:47.261835Z"
    }
   },
   "cell_type": "code",
   "source": "X_train, X_test, y_train, y_test = train_test_split(X, y, test_size=0.2, random_state=42)",
   "id": "2b53113518516a68",
   "outputs": [],
   "execution_count": 142
  },
  {
   "metadata": {
    "ExecuteTime": {
     "end_time": "2025-04-01T12:15:47.540783Z",
     "start_time": "2025-04-01T12:15:47.522016Z"
    }
   },
   "cell_type": "code",
   "source": [
    "scaler = StandardScaler()\n",
    "X_train_scaled = scaler.fit_transform(X_train)\n",
    "X_test_scaled = scaler.transform(X_test)"
   ],
   "id": "739f0d57da2c9e0b",
   "outputs": [],
   "execution_count": 143
  },
  {
   "metadata": {
    "ExecuteTime": {
     "end_time": "2025-04-01T12:15:47.905839Z",
     "start_time": "2025-04-01T12:15:47.734704Z"
    }
   },
   "cell_type": "code",
   "source": [
    "ridge = Ridge(alpha=1.0)\n",
    "lasso = Lasso(alpha=1, max_iter=5000)\n",
    "\n",
    "ridge.fit(X_train_scaled, y_train)\n",
    "lasso.fit(X_train_scaled, y_train)"
   ],
   "id": "af37f9b18a638b2b",
   "outputs": [
    {
     "data": {
      "text/plain": [
       "Lasso(alpha=1, max_iter=5000)"
      ],
      "text/html": [
       "<style>#sk-container-id-11 {color: black;}#sk-container-id-11 pre{padding: 0;}#sk-container-id-11 div.sk-toggleable {background-color: white;}#sk-container-id-11 label.sk-toggleable__label {cursor: pointer;display: block;width: 100%;margin-bottom: 0;padding: 0.3em;box-sizing: border-box;text-align: center;}#sk-container-id-11 label.sk-toggleable__label-arrow:before {content: \"▸\";float: left;margin-right: 0.25em;color: #696969;}#sk-container-id-11 label.sk-toggleable__label-arrow:hover:before {color: black;}#sk-container-id-11 div.sk-estimator:hover label.sk-toggleable__label-arrow:before {color: black;}#sk-container-id-11 div.sk-toggleable__content {max-height: 0;max-width: 0;overflow: hidden;text-align: left;background-color: #f0f8ff;}#sk-container-id-11 div.sk-toggleable__content pre {margin: 0.2em;color: black;border-radius: 0.25em;background-color: #f0f8ff;}#sk-container-id-11 input.sk-toggleable__control:checked~div.sk-toggleable__content {max-height: 200px;max-width: 100%;overflow: auto;}#sk-container-id-11 input.sk-toggleable__control:checked~label.sk-toggleable__label-arrow:before {content: \"▾\";}#sk-container-id-11 div.sk-estimator input.sk-toggleable__control:checked~label.sk-toggleable__label {background-color: #d4ebff;}#sk-container-id-11 div.sk-label input.sk-toggleable__control:checked~label.sk-toggleable__label {background-color: #d4ebff;}#sk-container-id-11 input.sk-hidden--visually {border: 0;clip: rect(1px 1px 1px 1px);clip: rect(1px, 1px, 1px, 1px);height: 1px;margin: -1px;overflow: hidden;padding: 0;position: absolute;width: 1px;}#sk-container-id-11 div.sk-estimator {font-family: monospace;background-color: #f0f8ff;border: 1px dotted black;border-radius: 0.25em;box-sizing: border-box;margin-bottom: 0.5em;}#sk-container-id-11 div.sk-estimator:hover {background-color: #d4ebff;}#sk-container-id-11 div.sk-parallel-item::after {content: \"\";width: 100%;border-bottom: 1px solid gray;flex-grow: 1;}#sk-container-id-11 div.sk-label:hover label.sk-toggleable__label {background-color: #d4ebff;}#sk-container-id-11 div.sk-serial::before {content: \"\";position: absolute;border-left: 1px solid gray;box-sizing: border-box;top: 0;bottom: 0;left: 50%;z-index: 0;}#sk-container-id-11 div.sk-serial {display: flex;flex-direction: column;align-items: center;background-color: white;padding-right: 0.2em;padding-left: 0.2em;position: relative;}#sk-container-id-11 div.sk-item {position: relative;z-index: 1;}#sk-container-id-11 div.sk-parallel {display: flex;align-items: stretch;justify-content: center;background-color: white;position: relative;}#sk-container-id-11 div.sk-item::before, #sk-container-id-11 div.sk-parallel-item::before {content: \"\";position: absolute;border-left: 1px solid gray;box-sizing: border-box;top: 0;bottom: 0;left: 50%;z-index: -1;}#sk-container-id-11 div.sk-parallel-item {display: flex;flex-direction: column;z-index: 1;position: relative;background-color: white;}#sk-container-id-11 div.sk-parallel-item:first-child::after {align-self: flex-end;width: 50%;}#sk-container-id-11 div.sk-parallel-item:last-child::after {align-self: flex-start;width: 50%;}#sk-container-id-11 div.sk-parallel-item:only-child::after {width: 0;}#sk-container-id-11 div.sk-dashed-wrapped {border: 1px dashed gray;margin: 0 0.4em 0.5em 0.4em;box-sizing: border-box;padding-bottom: 0.4em;background-color: white;}#sk-container-id-11 div.sk-label label {font-family: monospace;font-weight: bold;display: inline-block;line-height: 1.2em;}#sk-container-id-11 div.sk-label-container {text-align: center;}#sk-container-id-11 div.sk-container {/* jupyter's `normalize.less` sets `[hidden] { display: none; }` but bootstrap.min.css set `[hidden] { display: none !important; }` so we also need the `!important` here to be able to override the default hidden behavior on the sphinx rendered scikit-learn.org. See: https://github.com/scikit-learn/scikit-learn/issues/21755 */display: inline-block !important;position: relative;}#sk-container-id-11 div.sk-text-repr-fallback {display: none;}</style><div id=\"sk-container-id-11\" class=\"sk-top-container\"><div class=\"sk-text-repr-fallback\"><pre>Lasso(alpha=1, max_iter=5000)</pre><b>In a Jupyter environment, please rerun this cell to show the HTML representation or trust the notebook. <br />On GitHub, the HTML representation is unable to render, please try loading this page with nbviewer.org.</b></div><div class=\"sk-container\" hidden><div class=\"sk-item\"><div class=\"sk-estimator sk-toggleable\"><input class=\"sk-toggleable__control sk-hidden--visually\" id=\"sk-estimator-id-11\" type=\"checkbox\" checked><label for=\"sk-estimator-id-11\" class=\"sk-toggleable__label sk-toggleable__label-arrow\">Lasso</label><div class=\"sk-toggleable__content\"><pre>Lasso(alpha=1, max_iter=5000)</pre></div></div></div></div></div>"
      ]
     },
     "execution_count": 144,
     "metadata": {},
     "output_type": "execute_result"
    }
   ],
   "execution_count": 144
  },
  {
   "metadata": {
    "ExecuteTime": {
     "end_time": "2025-04-01T12:15:48.191114Z",
     "start_time": "2025-04-01T12:15:48.176925Z"
    }
   },
   "cell_type": "code",
   "source": "X_train_scaled",
   "id": "37f50b9cba6364ec",
   "outputs": [
    {
     "data": {
      "text/plain": [
       "array([[-0.09671886,  0.        , -0.11043153, ..., -1.04964589,\n",
       "         0.20346708, -0.17231495],\n",
       "       [-0.09671886,  0.        , -0.11043153, ...,  0.77120285,\n",
       "         0.20346708, -0.17231495],\n",
       "       [-0.09671886,  0.        , -0.11043153, ...,  0.77120285,\n",
       "         1.51025865, -0.17231495],\n",
       "       ...,\n",
       "       [-0.09671886,  0.        , -0.11043153, ..., -1.04964589,\n",
       "         0.20346708, -0.17231495],\n",
       "       [-0.09671886,  0.        , -0.11043153, ...,  0.77120285,\n",
       "         1.51025865, -0.17231495],\n",
       "       [-0.09671886,  0.        , -0.11043153, ...,  0.77120285,\n",
       "         0.20346708, -0.17231495]])"
      ]
     },
     "execution_count": 145,
     "metadata": {},
     "output_type": "execute_result"
    }
   ],
   "execution_count": 145
  },
  {
   "metadata": {
    "ExecuteTime": {
     "end_time": "2025-04-01T12:15:48.569883Z",
     "start_time": "2025-04-01T12:15:48.553792Z"
    }
   },
   "cell_type": "code",
   "source": [
    "y_pred_ridge = ridge.predict(X_test_scaled)\n",
    "y_pred_lasso = lasso.predict(X_test_scaled)"
   ],
   "id": "897d7d6186b5e573",
   "outputs": [],
   "execution_count": 146
  },
  {
   "metadata": {
    "ExecuteTime": {
     "end_time": "2025-04-01T12:15:48.878938Z",
     "start_time": "2025-04-01T12:15:48.863754Z"
    }
   },
   "cell_type": "code",
   "source": [
    "mse_ridge = mean_squared_error(y_test, y_pred_ridge)\n",
    "mse_lasso = mean_squared_error(y_test, y_pred_lasso)\n",
    "\n",
    "print(f\"Ridge MSE: {mse_ridge:.4f}\")\n",
    "print(f\"Lasso MSE: {mse_lasso:.4f}\")"
   ],
   "id": "dae8b07dcd0da7e1",
   "outputs": [
    {
     "name": "stdout",
     "output_type": "stream",
     "text": [
      "Ridge MSE: 682340793.0058\n",
      "Lasso MSE: 681505579.4893\n"
     ]
    }
   ],
   "execution_count": 147
  },
  {
   "metadata": {
    "ExecuteTime": {
     "end_time": "2025-04-01T12:15:49.338125Z",
     "start_time": "2025-04-01T12:15:49.308016Z"
    }
   },
   "cell_type": "code",
   "source": [
    "df_test = pd.read_csv('../../data/processed/test.csv')\n",
    "X_test_scaled"
   ],
   "id": "2c2f8c6fcda56b3e",
   "outputs": [
    {
     "data": {
      "text/plain": [
       "array([[-0.09671886,  0.        , -0.11043153, ...,  0.77120285,\n",
       "         1.51025865, -0.17231495],\n",
       "       [-0.09671886,  0.        , -0.11043153, ...,  0.77120285,\n",
       "         0.20346708, -0.17231495],\n",
       "       [-0.09671886,  0.        , -0.11043153, ...,  0.77120285,\n",
       "         0.20346708, -0.17231495],\n",
       "       ...,\n",
       "       [-0.09671886,  0.        , -0.11043153, ...,  0.77120285,\n",
       "         0.20346708, -0.17231495],\n",
       "       [-0.09671886,  0.        , -0.11043153, ...,  0.77120285,\n",
       "         0.20346708, -0.17231495],\n",
       "       [-0.09671886,  0.        , -0.11043153, ..., -1.04964589,\n",
       "         0.20346708, -0.17231495]])"
      ]
     },
     "execution_count": 148,
     "metadata": {},
     "output_type": "execute_result"
    }
   ],
   "execution_count": 148
  },
  {
   "metadata": {
    "ExecuteTime": {
     "end_time": "2025-04-01T12:15:49.743590Z",
     "start_time": "2025-04-01T12:15:49.634679Z"
    }
   },
   "cell_type": "code",
   "source": [
    "imputer = SimpleImputer(strategy='most_frequent')\n",
    "df_test_imput = pd.DataFrame(imputer.fit_transform(df_test), columns=df_test.columns)\n",
    "df_test_imput.info()"
   ],
   "id": "2ac246664b23e3a3",
   "outputs": [
    {
     "name": "stdout",
     "output_type": "stream",
     "text": [
      "<class 'pandas.core.frame.DataFrame'>\n",
      "RangeIndex: 1459 entries, 0 to 1458\n",
      "Data columns (total 53 columns):\n",
      " #   Column                     Non-Null Count  Dtype  \n",
      "---  ------                     --------------  -----  \n",
      " 0   cat__Neighborhood_Blmngtn  1459 non-null   float64\n",
      " 1   cat__Neighborhood_Blueste  1459 non-null   float64\n",
      " 2   cat__Neighborhood_BrDale   1459 non-null   float64\n",
      " 3   cat__Neighborhood_BrkSide  1459 non-null   float64\n",
      " 4   cat__Neighborhood_ClearCr  1459 non-null   float64\n",
      " 5   cat__Neighborhood_CollgCr  1459 non-null   float64\n",
      " 6   cat__Neighborhood_Crawfor  1459 non-null   float64\n",
      " 7   cat__Neighborhood_Edwards  1459 non-null   float64\n",
      " 8   cat__Neighborhood_Gilbert  1459 non-null   float64\n",
      " 9   cat__Neighborhood_IDOTRR   1459 non-null   float64\n",
      " 10  cat__Neighborhood_MeadowV  1459 non-null   float64\n",
      " 11  cat__Neighborhood_Mitchel  1459 non-null   float64\n",
      " 12  cat__Neighborhood_NAmes    1459 non-null   float64\n",
      " 13  cat__Neighborhood_NPkVill  1459 non-null   float64\n",
      " 14  cat__Neighborhood_NWAmes   1459 non-null   float64\n",
      " 15  cat__Neighborhood_NoRidge  1459 non-null   float64\n",
      " 16  cat__Neighborhood_NridgHt  1459 non-null   float64\n",
      " 17  cat__Neighborhood_OldTown  1459 non-null   float64\n",
      " 18  cat__Neighborhood_SWISU    1459 non-null   float64\n",
      " 19  cat__Neighborhood_Sawyer   1459 non-null   float64\n",
      " 20  cat__Neighborhood_SawyerW  1459 non-null   float64\n",
      " 21  cat__Neighborhood_Somerst  1459 non-null   float64\n",
      " 22  cat__Neighborhood_StoneBr  1459 non-null   float64\n",
      " 23  cat__Neighborhood_Timber   1459 non-null   float64\n",
      " 24  cat__Neighborhood_Veenker  1459 non-null   float64\n",
      " 25  cat__MSZoning_C (all)      1459 non-null   float64\n",
      " 26  cat__MSZoning_FV           1459 non-null   float64\n",
      " 27  cat__MSZoning_RH           1459 non-null   float64\n",
      " 28  cat__MSZoning_RL           1459 non-null   float64\n",
      " 29  cat__MSZoning_RM           1459 non-null   float64\n",
      " 30  cat__MSZoning_nan          1459 non-null   float64\n",
      " 31  remainder__Id              1459 non-null   float64\n",
      " 32  remainder__LotArea         1459 non-null   float64\n",
      " 33  remainder__GrLivArea       1459 non-null   float64\n",
      " 34  remainder__TotalBsmtSF     1459 non-null   float64\n",
      " 35  remainder__1stFlrSF        1459 non-null   float64\n",
      " 36  remainder__2ndFlrSF        1459 non-null   float64\n",
      " 37  remainder__GarageArea      1459 non-null   float64\n",
      " 38  remainder__WoodDeckSF      1459 non-null   float64\n",
      " 39  remainder__YearBuilt       1459 non-null   float64\n",
      " 40  remainder__OverallQual     1459 non-null   float64\n",
      " 41  remainder__OverallCond     1459 non-null   float64\n",
      " 42  remainder__ExterQual       1459 non-null   float64\n",
      " 43  remainder__KitchenQual     1459 non-null   float64\n",
      " 44  remainder__GarageQual      1459 non-null   float64\n",
      " 45  remainder__BsmtQual        1459 non-null   float64\n",
      " 46  remainder__YearRemodAdd    1459 non-null   float64\n",
      " 47  remainder__GarageYrBlt     1459 non-null   float64\n",
      " 48  remainder__Fireplaces      1459 non-null   float64\n",
      " 49  remainder__BsmtFullBath    1459 non-null   float64\n",
      " 50  remainder__FullBath        1459 non-null   float64\n",
      " 51  remainder__BedroomAbvGr    1459 non-null   float64\n",
      " 52  remainder__KitchenAbvGr    1459 non-null   float64\n",
      "dtypes: float64(53)\n",
      "memory usage: 604.2 KB\n"
     ]
    }
   ],
   "execution_count": 149
  },
  {
   "metadata": {
    "ExecuteTime": {
     "end_time": "2025-04-01T12:15:50.023961Z",
     "start_time": "2025-04-01T12:15:50.012529Z"
    }
   },
   "cell_type": "code",
   "source": "df_test_imput.drop(columns=['cat__MSZoning_nan'], inplace=True)",
   "id": "83feb43c2823e1f",
   "outputs": [],
   "execution_count": 150
  },
  {
   "metadata": {
    "ExecuteTime": {
     "end_time": "2025-04-01T12:15:50.425449Z",
     "start_time": "2025-04-01T12:15:50.408927Z"
    }
   },
   "cell_type": "code",
   "source": [
    "y_pred_ridge = ridge.predict(df_test_imput)\n",
    "y_pred_lasso = lasso.predict(df_test_imput)"
   ],
   "id": "8e168a06ef1e6a1e",
   "outputs": [
    {
     "name": "stderr",
     "output_type": "stream",
     "text": [
      "C:\\Users\\julie\\Bureau\\info\\B2\\python\\YBoost\\.venv\\Lib\\site-packages\\sklearn\\base.py:457: UserWarning: X has feature names, but Ridge was fitted without feature names\n",
      "  warnings.warn(\n",
      "C:\\Users\\julie\\Bureau\\info\\B2\\python\\YBoost\\.venv\\Lib\\site-packages\\sklearn\\base.py:457: UserWarning: X has feature names, but Lasso was fitted without feature names\n",
      "  warnings.warn(\n"
     ]
    }
   ],
   "execution_count": 151
  },
  {
   "metadata": {
    "ExecuteTime": {
     "end_time": "2025-04-01T12:15:50.605940Z",
     "start_time": "2025-04-01T12:15:50.587547Z"
    }
   },
   "cell_type": "code",
   "source": [
    "df_ridge = pd.DataFrame({'Id': df_test['remainder__Id'], 'SalePrice': y_pred_ridge})\n",
    "df_ridge.to_csv('submission_ridge.csv', index=False)"
   ],
   "id": "15fd1b0fef4b023a",
   "outputs": [],
   "execution_count": 152
  },
  {
   "metadata": {
    "ExecuteTime": {
     "end_time": "2025-04-01T12:15:50.784996Z",
     "start_time": "2025-04-01T12:15:50.763320Z"
    }
   },
   "cell_type": "code",
   "source": [
    "df_lasso = pd.DataFrame({'Id': df_test['remainder__Id'], 'SalePrice': y_pred_lasso})\n",
    "df_lasso.to_csv('submission_lasso.csv', index=False)"
   ],
   "id": "c9f37abb3f578129",
   "outputs": [],
   "execution_count": 153
  },
  {
   "metadata": {
    "ExecuteTime": {
     "end_time": "2025-04-01T12:15:50.976537Z",
     "start_time": "2025-04-01T12:15:50.968641Z"
    }
   },
   "cell_type": "code",
   "source": "",
   "id": "27c3facecd2ee5aa",
   "outputs": [],
   "execution_count": null
  }
 ],
 "metadata": {
  "kernelspec": {
   "display_name": "Python 3",
   "language": "python",
   "name": "python3"
  },
  "language_info": {
   "codemirror_mode": {
    "name": "ipython",
    "version": 2
   },
   "file_extension": ".py",
   "mimetype": "text/x-python",
   "name": "python",
   "nbconvert_exporter": "python",
   "pygments_lexer": "ipython2",
   "version": "2.7.6"
  }
 },
 "nbformat": 4,
 "nbformat_minor": 5
}
