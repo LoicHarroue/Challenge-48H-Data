{
 "cells": [
  {
   "cell_type": "code",
   "id": "initial_id",
   "metadata": {
    "collapsed": true,
    "ExecuteTime": {
     "end_time": "2025-04-01T11:58:53.031746Z",
     "start_time": "2025-04-01T11:58:53.019919Z"
    }
   },
   "source": [
    "import pandas as pd\n",
    "from sklearn.model_selection import train_test_split\n",
    "from sklearn.preprocessing import StandardScaler\n",
    "from sklearn.metrics import mean_squared_error\n",
    "from sklearn.linear_model import Ridge, Lasso\n",
    "from sklearn.impute import SimpleImputer"
   ],
   "outputs": [],
   "execution_count": 109
  },
  {
   "metadata": {
    "ExecuteTime": {
     "end_time": "2025-04-01T11:58:53.252366Z",
     "start_time": "2025-04-01T11:58:53.223560Z"
    }
   },
   "cell_type": "code",
   "source": "df_train = pd.read_csv('../../data/processed/train.csv')",
   "id": "a3aa5cb5d69efd4f",
   "outputs": [],
   "execution_count": 110
  },
  {
   "metadata": {
    "ExecuteTime": {
     "end_time": "2025-04-01T11:58:53.404863Z",
     "start_time": "2025-04-01T11:58:53.391020Z"
    }
   },
   "cell_type": "code",
   "source": [
    "X = df_train.drop('remainder__SalePrice', axis=1)\n",
    "y = df_train['remainder__SalePrice']"
   ],
   "id": "f40442d8be5ab913",
   "outputs": [],
   "execution_count": 111
  },
  {
   "metadata": {
    "ExecuteTime": {
     "end_time": "2025-04-01T11:58:53.609954Z",
     "start_time": "2025-04-01T11:58:53.559178Z"
    }
   },
   "cell_type": "code",
   "source": "X",
   "id": "181db5578fe0b703",
   "outputs": [
    {
     "data": {
      "text/plain": [
       "      cat__Neighborhood_Blmngtn  cat__Neighborhood_Blueste  \\\n",
       "0                           0.0                        0.0   \n",
       "1                           0.0                        0.0   \n",
       "2                           0.0                        0.0   \n",
       "3                           0.0                        0.0   \n",
       "4                           0.0                        0.0   \n",
       "...                         ...                        ...   \n",
       "1344                        0.0                        0.0   \n",
       "1345                        0.0                        0.0   \n",
       "1346                        0.0                        0.0   \n",
       "1347                        0.0                        0.0   \n",
       "1348                        0.0                        0.0   \n",
       "\n",
       "      cat__Neighborhood_BrDale  cat__Neighborhood_BrkSide  \\\n",
       "0                          0.0                        0.0   \n",
       "1                          0.0                        0.0   \n",
       "2                          0.0                        0.0   \n",
       "3                          0.0                        0.0   \n",
       "4                          0.0                        0.0   \n",
       "...                        ...                        ...   \n",
       "1344                       0.0                        0.0   \n",
       "1345                       0.0                        0.0   \n",
       "1346                       0.0                        0.0   \n",
       "1347                       0.0                        0.0   \n",
       "1348                       0.0                        0.0   \n",
       "\n",
       "      cat__Neighborhood_ClearCr  cat__Neighborhood_CollgCr  \\\n",
       "0                           0.0                        1.0   \n",
       "1                           0.0                        0.0   \n",
       "2                           0.0                        1.0   \n",
       "3                           0.0                        0.0   \n",
       "4                           0.0                        0.0   \n",
       "...                         ...                        ...   \n",
       "1344                        0.0                        0.0   \n",
       "1345                        0.0                        0.0   \n",
       "1346                        0.0                        0.0   \n",
       "1347                        0.0                        0.0   \n",
       "1348                        0.0                        0.0   \n",
       "\n",
       "      cat__Neighborhood_Crawfor  cat__Neighborhood_Edwards  \\\n",
       "0                           0.0                        0.0   \n",
       "1                           0.0                        0.0   \n",
       "2                           0.0                        0.0   \n",
       "3                           1.0                        0.0   \n",
       "4                           0.0                        0.0   \n",
       "...                         ...                        ...   \n",
       "1344                        0.0                        0.0   \n",
       "1345                        0.0                        0.0   \n",
       "1346                        1.0                        0.0   \n",
       "1347                        0.0                        0.0   \n",
       "1348                        0.0                        1.0   \n",
       "\n",
       "      cat__Neighborhood_Gilbert  cat__Neighborhood_IDOTRR  ...  \\\n",
       "0                           0.0                       0.0  ...   \n",
       "1                           0.0                       0.0  ...   \n",
       "2                           0.0                       0.0  ...   \n",
       "3                           0.0                       0.0  ...   \n",
       "4                           0.0                       0.0  ...   \n",
       "...                         ...                       ...  ...   \n",
       "1344                        1.0                       0.0  ...   \n",
       "1345                        0.0                       0.0  ...   \n",
       "1346                        0.0                       0.0  ...   \n",
       "1347                        0.0                       0.0  ...   \n",
       "1348                        0.0                       0.0  ...   \n",
       "\n",
       "      remainder__KitchenQual  remainder__GarageQual  remainder__BsmtQual  \\\n",
       "0                          4                      3                    4   \n",
       "1                          3                      3                    4   \n",
       "2                          4                      3                    4   \n",
       "3                          4                      3                    3   \n",
       "4                          4                      3                    4   \n",
       "...                      ...                    ...                  ...   \n",
       "1344                       3                      3                    4   \n",
       "1345                       3                      3                    4   \n",
       "1346                       4                      3                    3   \n",
       "1347                       4                      3                    3   \n",
       "1348                       3                      3                    3   \n",
       "\n",
       "      remainder__YearRemodAdd  remainder__GarageYrBlt  remainder__Fireplaces  \\\n",
       "0                        2003                  2003.0                      0   \n",
       "1                        1976                  1976.0                      1   \n",
       "2                        2002                  2001.0                      1   \n",
       "3                        1970                  1998.0                      1   \n",
       "4                        2000                  2000.0                      1   \n",
       "...                       ...                     ...                    ...   \n",
       "1344                     2000                  1999.0                      1   \n",
       "1345                     1988                  1978.0                      2   \n",
       "1346                     2006                  1941.0                      2   \n",
       "1347                     1996                  1950.0                      0   \n",
       "1348                     1965                  1965.0                      0   \n",
       "\n",
       "      remainder__BsmtFullBath  remainder__FullBath  remainder__BedroomAbvGr  \\\n",
       "0                           1                    2                        3   \n",
       "1                           0                    2                        3   \n",
       "2                           1                    2                        3   \n",
       "3                           1                    1                        3   \n",
       "4                           1                    2                        4   \n",
       "...                       ...                  ...                      ...   \n",
       "1344                        0                    2                        3   \n",
       "1345                        1                    2                        3   \n",
       "1346                        0                    2                        4   \n",
       "1347                        1                    1                        2   \n",
       "1348                        1                    1                        3   \n",
       "\n",
       "      remainder__KitchenAbvGr  \n",
       "0                           1  \n",
       "1                           1  \n",
       "2                           1  \n",
       "3                           1  \n",
       "4                           1  \n",
       "...                       ...  \n",
       "1344                        1  \n",
       "1345                        1  \n",
       "1346                        1  \n",
       "1347                        1  \n",
       "1348                        1  \n",
       "\n",
       "[1349 rows x 52 columns]"
      ],
      "text/html": [
       "<div>\n",
       "<style scoped>\n",
       "    .dataframe tbody tr th:only-of-type {\n",
       "        vertical-align: middle;\n",
       "    }\n",
       "\n",
       "    .dataframe tbody tr th {\n",
       "        vertical-align: top;\n",
       "    }\n",
       "\n",
       "    .dataframe thead th {\n",
       "        text-align: right;\n",
       "    }\n",
       "</style>\n",
       "<table border=\"1\" class=\"dataframe\">\n",
       "  <thead>\n",
       "    <tr style=\"text-align: right;\">\n",
       "      <th></th>\n",
       "      <th>cat__Neighborhood_Blmngtn</th>\n",
       "      <th>cat__Neighborhood_Blueste</th>\n",
       "      <th>cat__Neighborhood_BrDale</th>\n",
       "      <th>cat__Neighborhood_BrkSide</th>\n",
       "      <th>cat__Neighborhood_ClearCr</th>\n",
       "      <th>cat__Neighborhood_CollgCr</th>\n",
       "      <th>cat__Neighborhood_Crawfor</th>\n",
       "      <th>cat__Neighborhood_Edwards</th>\n",
       "      <th>cat__Neighborhood_Gilbert</th>\n",
       "      <th>cat__Neighborhood_IDOTRR</th>\n",
       "      <th>...</th>\n",
       "      <th>remainder__KitchenQual</th>\n",
       "      <th>remainder__GarageQual</th>\n",
       "      <th>remainder__BsmtQual</th>\n",
       "      <th>remainder__YearRemodAdd</th>\n",
       "      <th>remainder__GarageYrBlt</th>\n",
       "      <th>remainder__Fireplaces</th>\n",
       "      <th>remainder__BsmtFullBath</th>\n",
       "      <th>remainder__FullBath</th>\n",
       "      <th>remainder__BedroomAbvGr</th>\n",
       "      <th>remainder__KitchenAbvGr</th>\n",
       "    </tr>\n",
       "  </thead>\n",
       "  <tbody>\n",
       "    <tr>\n",
       "      <th>0</th>\n",
       "      <td>0.0</td>\n",
       "      <td>0.0</td>\n",
       "      <td>0.0</td>\n",
       "      <td>0.0</td>\n",
       "      <td>0.0</td>\n",
       "      <td>1.0</td>\n",
       "      <td>0.0</td>\n",
       "      <td>0.0</td>\n",
       "      <td>0.0</td>\n",
       "      <td>0.0</td>\n",
       "      <td>...</td>\n",
       "      <td>4</td>\n",
       "      <td>3</td>\n",
       "      <td>4</td>\n",
       "      <td>2003</td>\n",
       "      <td>2003.0</td>\n",
       "      <td>0</td>\n",
       "      <td>1</td>\n",
       "      <td>2</td>\n",
       "      <td>3</td>\n",
       "      <td>1</td>\n",
       "    </tr>\n",
       "    <tr>\n",
       "      <th>1</th>\n",
       "      <td>0.0</td>\n",
       "      <td>0.0</td>\n",
       "      <td>0.0</td>\n",
       "      <td>0.0</td>\n",
       "      <td>0.0</td>\n",
       "      <td>0.0</td>\n",
       "      <td>0.0</td>\n",
       "      <td>0.0</td>\n",
       "      <td>0.0</td>\n",
       "      <td>0.0</td>\n",
       "      <td>...</td>\n",
       "      <td>3</td>\n",
       "      <td>3</td>\n",
       "      <td>4</td>\n",
       "      <td>1976</td>\n",
       "      <td>1976.0</td>\n",
       "      <td>1</td>\n",
       "      <td>0</td>\n",
       "      <td>2</td>\n",
       "      <td>3</td>\n",
       "      <td>1</td>\n",
       "    </tr>\n",
       "    <tr>\n",
       "      <th>2</th>\n",
       "      <td>0.0</td>\n",
       "      <td>0.0</td>\n",
       "      <td>0.0</td>\n",
       "      <td>0.0</td>\n",
       "      <td>0.0</td>\n",
       "      <td>1.0</td>\n",
       "      <td>0.0</td>\n",
       "      <td>0.0</td>\n",
       "      <td>0.0</td>\n",
       "      <td>0.0</td>\n",
       "      <td>...</td>\n",
       "      <td>4</td>\n",
       "      <td>3</td>\n",
       "      <td>4</td>\n",
       "      <td>2002</td>\n",
       "      <td>2001.0</td>\n",
       "      <td>1</td>\n",
       "      <td>1</td>\n",
       "      <td>2</td>\n",
       "      <td>3</td>\n",
       "      <td>1</td>\n",
       "    </tr>\n",
       "    <tr>\n",
       "      <th>3</th>\n",
       "      <td>0.0</td>\n",
       "      <td>0.0</td>\n",
       "      <td>0.0</td>\n",
       "      <td>0.0</td>\n",
       "      <td>0.0</td>\n",
       "      <td>0.0</td>\n",
       "      <td>1.0</td>\n",
       "      <td>0.0</td>\n",
       "      <td>0.0</td>\n",
       "      <td>0.0</td>\n",
       "      <td>...</td>\n",
       "      <td>4</td>\n",
       "      <td>3</td>\n",
       "      <td>3</td>\n",
       "      <td>1970</td>\n",
       "      <td>1998.0</td>\n",
       "      <td>1</td>\n",
       "      <td>1</td>\n",
       "      <td>1</td>\n",
       "      <td>3</td>\n",
       "      <td>1</td>\n",
       "    </tr>\n",
       "    <tr>\n",
       "      <th>4</th>\n",
       "      <td>0.0</td>\n",
       "      <td>0.0</td>\n",
       "      <td>0.0</td>\n",
       "      <td>0.0</td>\n",
       "      <td>0.0</td>\n",
       "      <td>0.0</td>\n",
       "      <td>0.0</td>\n",
       "      <td>0.0</td>\n",
       "      <td>0.0</td>\n",
       "      <td>0.0</td>\n",
       "      <td>...</td>\n",
       "      <td>4</td>\n",
       "      <td>3</td>\n",
       "      <td>4</td>\n",
       "      <td>2000</td>\n",
       "      <td>2000.0</td>\n",
       "      <td>1</td>\n",
       "      <td>1</td>\n",
       "      <td>2</td>\n",
       "      <td>4</td>\n",
       "      <td>1</td>\n",
       "    </tr>\n",
       "    <tr>\n",
       "      <th>...</th>\n",
       "      <td>...</td>\n",
       "      <td>...</td>\n",
       "      <td>...</td>\n",
       "      <td>...</td>\n",
       "      <td>...</td>\n",
       "      <td>...</td>\n",
       "      <td>...</td>\n",
       "      <td>...</td>\n",
       "      <td>...</td>\n",
       "      <td>...</td>\n",
       "      <td>...</td>\n",
       "      <td>...</td>\n",
       "      <td>...</td>\n",
       "      <td>...</td>\n",
       "      <td>...</td>\n",
       "      <td>...</td>\n",
       "      <td>...</td>\n",
       "      <td>...</td>\n",
       "      <td>...</td>\n",
       "      <td>...</td>\n",
       "      <td>...</td>\n",
       "    </tr>\n",
       "    <tr>\n",
       "      <th>1344</th>\n",
       "      <td>0.0</td>\n",
       "      <td>0.0</td>\n",
       "      <td>0.0</td>\n",
       "      <td>0.0</td>\n",
       "      <td>0.0</td>\n",
       "      <td>0.0</td>\n",
       "      <td>0.0</td>\n",
       "      <td>0.0</td>\n",
       "      <td>1.0</td>\n",
       "      <td>0.0</td>\n",
       "      <td>...</td>\n",
       "      <td>3</td>\n",
       "      <td>3</td>\n",
       "      <td>4</td>\n",
       "      <td>2000</td>\n",
       "      <td>1999.0</td>\n",
       "      <td>1</td>\n",
       "      <td>0</td>\n",
       "      <td>2</td>\n",
       "      <td>3</td>\n",
       "      <td>1</td>\n",
       "    </tr>\n",
       "    <tr>\n",
       "      <th>1345</th>\n",
       "      <td>0.0</td>\n",
       "      <td>0.0</td>\n",
       "      <td>0.0</td>\n",
       "      <td>0.0</td>\n",
       "      <td>0.0</td>\n",
       "      <td>0.0</td>\n",
       "      <td>0.0</td>\n",
       "      <td>0.0</td>\n",
       "      <td>0.0</td>\n",
       "      <td>0.0</td>\n",
       "      <td>...</td>\n",
       "      <td>3</td>\n",
       "      <td>3</td>\n",
       "      <td>4</td>\n",
       "      <td>1988</td>\n",
       "      <td>1978.0</td>\n",
       "      <td>2</td>\n",
       "      <td>1</td>\n",
       "      <td>2</td>\n",
       "      <td>3</td>\n",
       "      <td>1</td>\n",
       "    </tr>\n",
       "    <tr>\n",
       "      <th>1346</th>\n",
       "      <td>0.0</td>\n",
       "      <td>0.0</td>\n",
       "      <td>0.0</td>\n",
       "      <td>0.0</td>\n",
       "      <td>0.0</td>\n",
       "      <td>0.0</td>\n",
       "      <td>1.0</td>\n",
       "      <td>0.0</td>\n",
       "      <td>0.0</td>\n",
       "      <td>0.0</td>\n",
       "      <td>...</td>\n",
       "      <td>4</td>\n",
       "      <td>3</td>\n",
       "      <td>3</td>\n",
       "      <td>2006</td>\n",
       "      <td>1941.0</td>\n",
       "      <td>2</td>\n",
       "      <td>0</td>\n",
       "      <td>2</td>\n",
       "      <td>4</td>\n",
       "      <td>1</td>\n",
       "    </tr>\n",
       "    <tr>\n",
       "      <th>1347</th>\n",
       "      <td>0.0</td>\n",
       "      <td>0.0</td>\n",
       "      <td>0.0</td>\n",
       "      <td>0.0</td>\n",
       "      <td>0.0</td>\n",
       "      <td>0.0</td>\n",
       "      <td>0.0</td>\n",
       "      <td>0.0</td>\n",
       "      <td>0.0</td>\n",
       "      <td>0.0</td>\n",
       "      <td>...</td>\n",
       "      <td>4</td>\n",
       "      <td>3</td>\n",
       "      <td>3</td>\n",
       "      <td>1996</td>\n",
       "      <td>1950.0</td>\n",
       "      <td>0</td>\n",
       "      <td>1</td>\n",
       "      <td>1</td>\n",
       "      <td>2</td>\n",
       "      <td>1</td>\n",
       "    </tr>\n",
       "    <tr>\n",
       "      <th>1348</th>\n",
       "      <td>0.0</td>\n",
       "      <td>0.0</td>\n",
       "      <td>0.0</td>\n",
       "      <td>0.0</td>\n",
       "      <td>0.0</td>\n",
       "      <td>0.0</td>\n",
       "      <td>0.0</td>\n",
       "      <td>1.0</td>\n",
       "      <td>0.0</td>\n",
       "      <td>0.0</td>\n",
       "      <td>...</td>\n",
       "      <td>3</td>\n",
       "      <td>3</td>\n",
       "      <td>3</td>\n",
       "      <td>1965</td>\n",
       "      <td>1965.0</td>\n",
       "      <td>0</td>\n",
       "      <td>1</td>\n",
       "      <td>1</td>\n",
       "      <td>3</td>\n",
       "      <td>1</td>\n",
       "    </tr>\n",
       "  </tbody>\n",
       "</table>\n",
       "<p>1349 rows × 52 columns</p>\n",
       "</div>"
      ]
     },
     "execution_count": 112,
     "metadata": {},
     "output_type": "execute_result"
    }
   ],
   "execution_count": 112
  },
  {
   "metadata": {
    "ExecuteTime": {
     "end_time": "2025-04-01T11:58:53.927182Z",
     "start_time": "2025-04-01T11:58:53.909113Z"
    }
   },
   "cell_type": "code",
   "source": "X_train, X_test, y_train, y_test = train_test_split(X, y, test_size=0.2, random_state=42)",
   "id": "2b53113518516a68",
   "outputs": [],
   "execution_count": 113
  },
  {
   "metadata": {
    "ExecuteTime": {
     "end_time": "2025-04-01T11:58:54.306331Z",
     "start_time": "2025-04-01T11:58:54.268962Z"
    }
   },
   "cell_type": "code",
   "source": [
    "scaler = StandardScaler()\n",
    "X_train_scaled = scaler.fit_transform(X_train)\n",
    "X_test_scaled = scaler.transform(X_test)"
   ],
   "id": "739f0d57da2c9e0b",
   "outputs": [],
   "execution_count": 114
  },
  {
   "metadata": {
    "ExecuteTime": {
     "end_time": "2025-04-01T11:59:54.509420Z",
     "start_time": "2025-04-01T11:59:54.309922Z"
    }
   },
   "cell_type": "code",
   "source": [
    "ridge = Ridge(alpha=1.0)\n",
    "lasso = Lasso(alpha=1, max_iter=5000)\n",
    "\n",
    "ridge.fit(X_train_scaled, y_train)\n",
    "lasso.fit(X_train_scaled, y_train)"
   ],
   "id": "af37f9b18a638b2b",
   "outputs": [
    {
     "data": {
      "text/plain": [
       "Lasso(alpha=1, max_iter=5000)"
      ],
      "text/html": [
       "<style>#sk-container-id-9 {color: black;}#sk-container-id-9 pre{padding: 0;}#sk-container-id-9 div.sk-toggleable {background-color: white;}#sk-container-id-9 label.sk-toggleable__label {cursor: pointer;display: block;width: 100%;margin-bottom: 0;padding: 0.3em;box-sizing: border-box;text-align: center;}#sk-container-id-9 label.sk-toggleable__label-arrow:before {content: \"▸\";float: left;margin-right: 0.25em;color: #696969;}#sk-container-id-9 label.sk-toggleable__label-arrow:hover:before {color: black;}#sk-container-id-9 div.sk-estimator:hover label.sk-toggleable__label-arrow:before {color: black;}#sk-container-id-9 div.sk-toggleable__content {max-height: 0;max-width: 0;overflow: hidden;text-align: left;background-color: #f0f8ff;}#sk-container-id-9 div.sk-toggleable__content pre {margin: 0.2em;color: black;border-radius: 0.25em;background-color: #f0f8ff;}#sk-container-id-9 input.sk-toggleable__control:checked~div.sk-toggleable__content {max-height: 200px;max-width: 100%;overflow: auto;}#sk-container-id-9 input.sk-toggleable__control:checked~label.sk-toggleable__label-arrow:before {content: \"▾\";}#sk-container-id-9 div.sk-estimator input.sk-toggleable__control:checked~label.sk-toggleable__label {background-color: #d4ebff;}#sk-container-id-9 div.sk-label input.sk-toggleable__control:checked~label.sk-toggleable__label {background-color: #d4ebff;}#sk-container-id-9 input.sk-hidden--visually {border: 0;clip: rect(1px 1px 1px 1px);clip: rect(1px, 1px, 1px, 1px);height: 1px;margin: -1px;overflow: hidden;padding: 0;position: absolute;width: 1px;}#sk-container-id-9 div.sk-estimator {font-family: monospace;background-color: #f0f8ff;border: 1px dotted black;border-radius: 0.25em;box-sizing: border-box;margin-bottom: 0.5em;}#sk-container-id-9 div.sk-estimator:hover {background-color: #d4ebff;}#sk-container-id-9 div.sk-parallel-item::after {content: \"\";width: 100%;border-bottom: 1px solid gray;flex-grow: 1;}#sk-container-id-9 div.sk-label:hover label.sk-toggleable__label {background-color: #d4ebff;}#sk-container-id-9 div.sk-serial::before {content: \"\";position: absolute;border-left: 1px solid gray;box-sizing: border-box;top: 0;bottom: 0;left: 50%;z-index: 0;}#sk-container-id-9 div.sk-serial {display: flex;flex-direction: column;align-items: center;background-color: white;padding-right: 0.2em;padding-left: 0.2em;position: relative;}#sk-container-id-9 div.sk-item {position: relative;z-index: 1;}#sk-container-id-9 div.sk-parallel {display: flex;align-items: stretch;justify-content: center;background-color: white;position: relative;}#sk-container-id-9 div.sk-item::before, #sk-container-id-9 div.sk-parallel-item::before {content: \"\";position: absolute;border-left: 1px solid gray;box-sizing: border-box;top: 0;bottom: 0;left: 50%;z-index: -1;}#sk-container-id-9 div.sk-parallel-item {display: flex;flex-direction: column;z-index: 1;position: relative;background-color: white;}#sk-container-id-9 div.sk-parallel-item:first-child::after {align-self: flex-end;width: 50%;}#sk-container-id-9 div.sk-parallel-item:last-child::after {align-self: flex-start;width: 50%;}#sk-container-id-9 div.sk-parallel-item:only-child::after {width: 0;}#sk-container-id-9 div.sk-dashed-wrapped {border: 1px dashed gray;margin: 0 0.4em 0.5em 0.4em;box-sizing: border-box;padding-bottom: 0.4em;background-color: white;}#sk-container-id-9 div.sk-label label {font-family: monospace;font-weight: bold;display: inline-block;line-height: 1.2em;}#sk-container-id-9 div.sk-label-container {text-align: center;}#sk-container-id-9 div.sk-container {/* jupyter's `normalize.less` sets `[hidden] { display: none; }` but bootstrap.min.css set `[hidden] { display: none !important; }` so we also need the `!important` here to be able to override the default hidden behavior on the sphinx rendered scikit-learn.org. See: https://github.com/scikit-learn/scikit-learn/issues/21755 */display: inline-block !important;position: relative;}#sk-container-id-9 div.sk-text-repr-fallback {display: none;}</style><div id=\"sk-container-id-9\" class=\"sk-top-container\"><div class=\"sk-text-repr-fallback\"><pre>Lasso(alpha=1, max_iter=5000)</pre><b>In a Jupyter environment, please rerun this cell to show the HTML representation or trust the notebook. <br />On GitHub, the HTML representation is unable to render, please try loading this page with nbviewer.org.</b></div><div class=\"sk-container\" hidden><div class=\"sk-item\"><div class=\"sk-estimator sk-toggleable\"><input class=\"sk-toggleable__control sk-hidden--visually\" id=\"sk-estimator-id-9\" type=\"checkbox\" checked><label for=\"sk-estimator-id-9\" class=\"sk-toggleable__label sk-toggleable__label-arrow\">Lasso</label><div class=\"sk-toggleable__content\"><pre>Lasso(alpha=1, max_iter=5000)</pre></div></div></div></div></div>"
      ]
     },
     "execution_count": 115,
     "metadata": {},
     "output_type": "execute_result"
    }
   ],
   "execution_count": 115
  },
  {
   "metadata": {
    "ExecuteTime": {
     "end_time": "2025-04-01T11:59:54.907042Z",
     "start_time": "2025-04-01T11:59:54.891530Z"
    }
   },
   "cell_type": "code",
   "source": "X_train_scaled",
   "id": "37f50b9cba6364ec",
   "outputs": [
    {
     "data": {
      "text/plain": [
       "array([[-0.09671886,  0.        , -0.11043153, ..., -1.04964589,\n",
       "         0.20346708, -0.17231495],\n",
       "       [-0.09671886,  0.        , -0.11043153, ...,  0.77120285,\n",
       "         0.20346708, -0.17231495],\n",
       "       [-0.09671886,  0.        , -0.11043153, ...,  0.77120285,\n",
       "         1.51025865, -0.17231495],\n",
       "       ...,\n",
       "       [-0.09671886,  0.        , -0.11043153, ..., -1.04964589,\n",
       "         0.20346708, -0.17231495],\n",
       "       [-0.09671886,  0.        , -0.11043153, ...,  0.77120285,\n",
       "         1.51025865, -0.17231495],\n",
       "       [-0.09671886,  0.        , -0.11043153, ...,  0.77120285,\n",
       "         0.20346708, -0.17231495]])"
      ]
     },
     "execution_count": 116,
     "metadata": {},
     "output_type": "execute_result"
    }
   ],
   "execution_count": 116
  },
  {
   "metadata": {
    "ExecuteTime": {
     "end_time": "2025-04-01T11:59:55.299941Z",
     "start_time": "2025-04-01T11:59:55.284581Z"
    }
   },
   "cell_type": "code",
   "source": [
    "y_pred_ridge = ridge.predict(X_test_scaled)\n",
    "y_pred_lasso = lasso.predict(X_test_scaled)"
   ],
   "id": "897d7d6186b5e573",
   "outputs": [],
   "execution_count": 117
  },
  {
   "metadata": {
    "ExecuteTime": {
     "end_time": "2025-04-01T11:59:55.769477Z",
     "start_time": "2025-04-01T11:59:55.749834Z"
    }
   },
   "cell_type": "code",
   "source": [
    "mse_ridge = mean_squared_error(y_test, y_pred_ridge)\n",
    "mse_lasso = mean_squared_error(y_test, y_pred_lasso)\n",
    "\n",
    "print(f\"Ridge MSE: {mse_ridge:.4f}\")\n",
    "print(f\"Lasso MSE: {mse_lasso:.4f}\")"
   ],
   "id": "dae8b07dcd0da7e1",
   "outputs": [
    {
     "name": "stdout",
     "output_type": "stream",
     "text": [
      "Ridge MSE: 682340793.0058\n",
      "Lasso MSE: 681505579.4893\n"
     ]
    }
   ],
   "execution_count": 118
  },
  {
   "metadata": {
    "ExecuteTime": {
     "end_time": "2025-04-01T11:59:56.326734Z",
     "start_time": "2025-04-01T11:59:56.298265Z"
    }
   },
   "cell_type": "code",
   "source": [
    "df_test = pd.read_csv('../../data/processed/test.csv')\n",
    "X_test_scaled"
   ],
   "id": "2c2f8c6fcda56b3e",
   "outputs": [
    {
     "data": {
      "text/plain": [
       "array([[-0.09671886,  0.        , -0.11043153, ...,  0.77120285,\n",
       "         1.51025865, -0.17231495],\n",
       "       [-0.09671886,  0.        , -0.11043153, ...,  0.77120285,\n",
       "         0.20346708, -0.17231495],\n",
       "       [-0.09671886,  0.        , -0.11043153, ...,  0.77120285,\n",
       "         0.20346708, -0.17231495],\n",
       "       ...,\n",
       "       [-0.09671886,  0.        , -0.11043153, ...,  0.77120285,\n",
       "         0.20346708, -0.17231495],\n",
       "       [-0.09671886,  0.        , -0.11043153, ...,  0.77120285,\n",
       "         0.20346708, -0.17231495],\n",
       "       [-0.09671886,  0.        , -0.11043153, ..., -1.04964589,\n",
       "         0.20346708, -0.17231495]])"
      ]
     },
     "execution_count": 119,
     "metadata": {},
     "output_type": "execute_result"
    }
   ],
   "execution_count": 119
  },
  {
   "metadata": {
    "ExecuteTime": {
     "end_time": "2025-04-01T11:59:56.645580Z",
     "start_time": "2025-04-01T11:59:56.575964Z"
    }
   },
   "cell_type": "code",
   "source": [
    "imputer = SimpleImputer(strategy='most_frequent')\n",
    "df_test_imput = pd.DataFrame(imputer.fit_transform(df_test), columns=df_test.columns)\n",
    "df_test_imput.info()"
   ],
   "id": "2ac246664b23e3a3",
   "outputs": [
    {
     "name": "stdout",
     "output_type": "stream",
     "text": [
      "<class 'pandas.core.frame.DataFrame'>\n",
      "RangeIndex: 1459 entries, 0 to 1458\n",
      "Data columns (total 53 columns):\n",
      " #   Column                     Non-Null Count  Dtype  \n",
      "---  ------                     --------------  -----  \n",
      " 0   cat__Neighborhood_Blmngtn  1459 non-null   float64\n",
      " 1   cat__Neighborhood_Blueste  1459 non-null   float64\n",
      " 2   cat__Neighborhood_BrDale   1459 non-null   float64\n",
      " 3   cat__Neighborhood_BrkSide  1459 non-null   float64\n",
      " 4   cat__Neighborhood_ClearCr  1459 non-null   float64\n",
      " 5   cat__Neighborhood_CollgCr  1459 non-null   float64\n",
      " 6   cat__Neighborhood_Crawfor  1459 non-null   float64\n",
      " 7   cat__Neighborhood_Edwards  1459 non-null   float64\n",
      " 8   cat__Neighborhood_Gilbert  1459 non-null   float64\n",
      " 9   cat__Neighborhood_IDOTRR   1459 non-null   float64\n",
      " 10  cat__Neighborhood_MeadowV  1459 non-null   float64\n",
      " 11  cat__Neighborhood_Mitchel  1459 non-null   float64\n",
      " 12  cat__Neighborhood_NAmes    1459 non-null   float64\n",
      " 13  cat__Neighborhood_NPkVill  1459 non-null   float64\n",
      " 14  cat__Neighborhood_NWAmes   1459 non-null   float64\n",
      " 15  cat__Neighborhood_NoRidge  1459 non-null   float64\n",
      " 16  cat__Neighborhood_NridgHt  1459 non-null   float64\n",
      " 17  cat__Neighborhood_OldTown  1459 non-null   float64\n",
      " 18  cat__Neighborhood_SWISU    1459 non-null   float64\n",
      " 19  cat__Neighborhood_Sawyer   1459 non-null   float64\n",
      " 20  cat__Neighborhood_SawyerW  1459 non-null   float64\n",
      " 21  cat__Neighborhood_Somerst  1459 non-null   float64\n",
      " 22  cat__Neighborhood_StoneBr  1459 non-null   float64\n",
      " 23  cat__Neighborhood_Timber   1459 non-null   float64\n",
      " 24  cat__Neighborhood_Veenker  1459 non-null   float64\n",
      " 25  cat__MSZoning_C (all)      1459 non-null   float64\n",
      " 26  cat__MSZoning_FV           1459 non-null   float64\n",
      " 27  cat__MSZoning_RH           1459 non-null   float64\n",
      " 28  cat__MSZoning_RL           1459 non-null   float64\n",
      " 29  cat__MSZoning_RM           1459 non-null   float64\n",
      " 30  cat__MSZoning_nan          1459 non-null   float64\n",
      " 31  remainder__Id              1459 non-null   float64\n",
      " 32  remainder__LotArea         1459 non-null   float64\n",
      " 33  remainder__GrLivArea       1459 non-null   float64\n",
      " 34  remainder__TotalBsmtSF     1459 non-null   float64\n",
      " 35  remainder__1stFlrSF        1459 non-null   float64\n",
      " 36  remainder__2ndFlrSF        1459 non-null   float64\n",
      " 37  remainder__GarageArea      1459 non-null   float64\n",
      " 38  remainder__WoodDeckSF      1459 non-null   float64\n",
      " 39  remainder__YearBuilt       1459 non-null   float64\n",
      " 40  remainder__OverallQual     1459 non-null   float64\n",
      " 41  remainder__OverallCond     1459 non-null   float64\n",
      " 42  remainder__ExterQual       1459 non-null   float64\n",
      " 43  remainder__KitchenQual     1459 non-null   float64\n",
      " 44  remainder__GarageQual      1459 non-null   float64\n",
      " 45  remainder__BsmtQual        1459 non-null   float64\n",
      " 46  remainder__YearRemodAdd    1459 non-null   float64\n",
      " 47  remainder__GarageYrBlt     1459 non-null   float64\n",
      " 48  remainder__Fireplaces      1459 non-null   float64\n",
      " 49  remainder__BsmtFullBath    1459 non-null   float64\n",
      " 50  remainder__FullBath        1459 non-null   float64\n",
      " 51  remainder__BedroomAbvGr    1459 non-null   float64\n",
      " 52  remainder__KitchenAbvGr    1459 non-null   float64\n",
      "dtypes: float64(53)\n",
      "memory usage: 604.2 KB\n"
     ]
    }
   ],
   "execution_count": 120
  },
  {
   "metadata": {
    "ExecuteTime": {
     "end_time": "2025-04-01T11:59:57.156551Z",
     "start_time": "2025-04-01T11:59:57.059785Z"
    }
   },
   "cell_type": "code",
   "source": [
    "y_pred_ridge = ridge.predict(df_test_imput)\n",
    "y_pred_lasso = lasso.predict(df_test_imput)"
   ],
   "id": "8e168a06ef1e6a1e",
   "outputs": [
    {
     "name": "stderr",
     "output_type": "stream",
     "text": [
      "C:\\Users\\julie\\Bureau\\info\\B2\\python\\YBoost\\.venv\\Lib\\site-packages\\sklearn\\base.py:457: UserWarning: X has feature names, but Ridge was fitted without feature names\n",
      "  warnings.warn(\n"
     ]
    },
    {
     "ename": "ValueError",
     "evalue": "X has 53 features, but Ridge is expecting 52 features as input.",
     "output_type": "error",
     "traceback": [
      "\u001B[1;31m---------------------------------------------------------------------------\u001B[0m",
      "\u001B[1;31mValueError\u001B[0m                                Traceback (most recent call last)",
      "Cell \u001B[1;32mIn[121], line 1\u001B[0m\n\u001B[1;32m----> 1\u001B[0m y_pred_ridge \u001B[38;5;241m=\u001B[39m \u001B[43mridge\u001B[49m\u001B[38;5;241;43m.\u001B[39;49m\u001B[43mpredict\u001B[49m\u001B[43m(\u001B[49m\u001B[43mdf_test_imput\u001B[49m\u001B[43m)\u001B[49m\n\u001B[0;32m      2\u001B[0m y_pred_lasso \u001B[38;5;241m=\u001B[39m lasso\u001B[38;5;241m.\u001B[39mpredict(df_test_imput)\n",
      "File \u001B[1;32m~\\Bureau\\info\\B2\\python\\YBoost\\.venv\\Lib\\site-packages\\sklearn\\linear_model\\_base.py:386\u001B[0m, in \u001B[0;36mLinearModel.predict\u001B[1;34m(self, X)\u001B[0m\n\u001B[0;32m    372\u001B[0m \u001B[38;5;28;01mdef\u001B[39;00m \u001B[38;5;21mpredict\u001B[39m(\u001B[38;5;28mself\u001B[39m, X):\n\u001B[0;32m    373\u001B[0m \u001B[38;5;250m    \u001B[39m\u001B[38;5;124;03m\"\"\"\u001B[39;00m\n\u001B[0;32m    374\u001B[0m \u001B[38;5;124;03m    Predict using the linear model.\u001B[39;00m\n\u001B[0;32m    375\u001B[0m \n\u001B[1;32m   (...)\u001B[0m\n\u001B[0;32m    384\u001B[0m \u001B[38;5;124;03m        Returns predicted values.\u001B[39;00m\n\u001B[0;32m    385\u001B[0m \u001B[38;5;124;03m    \"\"\"\u001B[39;00m\n\u001B[1;32m--> 386\u001B[0m     \u001B[38;5;28;01mreturn\u001B[39;00m \u001B[38;5;28;43mself\u001B[39;49m\u001B[38;5;241;43m.\u001B[39;49m\u001B[43m_decision_function\u001B[49m\u001B[43m(\u001B[49m\u001B[43mX\u001B[49m\u001B[43m)\u001B[49m\n",
      "File \u001B[1;32m~\\Bureau\\info\\B2\\python\\YBoost\\.venv\\Lib\\site-packages\\sklearn\\linear_model\\_base.py:369\u001B[0m, in \u001B[0;36mLinearModel._decision_function\u001B[1;34m(self, X)\u001B[0m\n\u001B[0;32m    366\u001B[0m \u001B[38;5;28;01mdef\u001B[39;00m \u001B[38;5;21m_decision_function\u001B[39m(\u001B[38;5;28mself\u001B[39m, X):\n\u001B[0;32m    367\u001B[0m     check_is_fitted(\u001B[38;5;28mself\u001B[39m)\n\u001B[1;32m--> 369\u001B[0m     X \u001B[38;5;241m=\u001B[39m \u001B[38;5;28;43mself\u001B[39;49m\u001B[38;5;241;43m.\u001B[39;49m\u001B[43m_validate_data\u001B[49m\u001B[43m(\u001B[49m\u001B[43mX\u001B[49m\u001B[43m,\u001B[49m\u001B[43m \u001B[49m\u001B[43maccept_sparse\u001B[49m\u001B[38;5;241;43m=\u001B[39;49m\u001B[43m[\u001B[49m\u001B[38;5;124;43m\"\u001B[39;49m\u001B[38;5;124;43mcsr\u001B[39;49m\u001B[38;5;124;43m\"\u001B[39;49m\u001B[43m,\u001B[49m\u001B[43m \u001B[49m\u001B[38;5;124;43m\"\u001B[39;49m\u001B[38;5;124;43mcsc\u001B[39;49m\u001B[38;5;124;43m\"\u001B[39;49m\u001B[43m,\u001B[49m\u001B[43m \u001B[49m\u001B[38;5;124;43m\"\u001B[39;49m\u001B[38;5;124;43mcoo\u001B[39;49m\u001B[38;5;124;43m\"\u001B[39;49m\u001B[43m]\u001B[49m\u001B[43m,\u001B[49m\u001B[43m \u001B[49m\u001B[43mreset\u001B[49m\u001B[38;5;241;43m=\u001B[39;49m\u001B[38;5;28;43;01mFalse\u001B[39;49;00m\u001B[43m)\u001B[49m\n\u001B[0;32m    370\u001B[0m     \u001B[38;5;28;01mreturn\u001B[39;00m safe_sparse_dot(X, \u001B[38;5;28mself\u001B[39m\u001B[38;5;241m.\u001B[39mcoef_\u001B[38;5;241m.\u001B[39mT, dense_output\u001B[38;5;241m=\u001B[39m\u001B[38;5;28;01mTrue\u001B[39;00m) \u001B[38;5;241m+\u001B[39m \u001B[38;5;28mself\u001B[39m\u001B[38;5;241m.\u001B[39mintercept_\n",
      "File \u001B[1;32m~\\Bureau\\info\\B2\\python\\YBoost\\.venv\\Lib\\site-packages\\sklearn\\base.py:625\u001B[0m, in \u001B[0;36mBaseEstimator._validate_data\u001B[1;34m(self, X, y, reset, validate_separately, cast_to_ndarray, **check_params)\u001B[0m\n\u001B[0;32m    622\u001B[0m     out \u001B[38;5;241m=\u001B[39m X, y\n\u001B[0;32m    624\u001B[0m \u001B[38;5;28;01mif\u001B[39;00m \u001B[38;5;129;01mnot\u001B[39;00m no_val_X \u001B[38;5;129;01mand\u001B[39;00m check_params\u001B[38;5;241m.\u001B[39mget(\u001B[38;5;124m\"\u001B[39m\u001B[38;5;124mensure_2d\u001B[39m\u001B[38;5;124m\"\u001B[39m, \u001B[38;5;28;01mTrue\u001B[39;00m):\n\u001B[1;32m--> 625\u001B[0m     \u001B[38;5;28;43mself\u001B[39;49m\u001B[38;5;241;43m.\u001B[39;49m\u001B[43m_check_n_features\u001B[49m\u001B[43m(\u001B[49m\u001B[43mX\u001B[49m\u001B[43m,\u001B[49m\u001B[43m \u001B[49m\u001B[43mreset\u001B[49m\u001B[38;5;241;43m=\u001B[39;49m\u001B[43mreset\u001B[49m\u001B[43m)\u001B[49m\n\u001B[0;32m    627\u001B[0m \u001B[38;5;28;01mreturn\u001B[39;00m out\n",
      "File \u001B[1;32m~\\Bureau\\info\\B2\\python\\YBoost\\.venv\\Lib\\site-packages\\sklearn\\base.py:414\u001B[0m, in \u001B[0;36mBaseEstimator._check_n_features\u001B[1;34m(self, X, reset)\u001B[0m\n\u001B[0;32m    411\u001B[0m     \u001B[38;5;28;01mreturn\u001B[39;00m\n\u001B[0;32m    413\u001B[0m \u001B[38;5;28;01mif\u001B[39;00m n_features \u001B[38;5;241m!=\u001B[39m \u001B[38;5;28mself\u001B[39m\u001B[38;5;241m.\u001B[39mn_features_in_:\n\u001B[1;32m--> 414\u001B[0m     \u001B[38;5;28;01mraise\u001B[39;00m \u001B[38;5;167;01mValueError\u001B[39;00m(\n\u001B[0;32m    415\u001B[0m         \u001B[38;5;124mf\u001B[39m\u001B[38;5;124m\"\u001B[39m\u001B[38;5;124mX has \u001B[39m\u001B[38;5;132;01m{\u001B[39;00mn_features\u001B[38;5;132;01m}\u001B[39;00m\u001B[38;5;124m features, but \u001B[39m\u001B[38;5;132;01m{\u001B[39;00m\u001B[38;5;28mself\u001B[39m\u001B[38;5;241m.\u001B[39m\u001B[38;5;18m__class__\u001B[39m\u001B[38;5;241m.\u001B[39m\u001B[38;5;18m__name__\u001B[39m\u001B[38;5;132;01m}\u001B[39;00m\u001B[38;5;124m \u001B[39m\u001B[38;5;124m\"\u001B[39m\n\u001B[0;32m    416\u001B[0m         \u001B[38;5;124mf\u001B[39m\u001B[38;5;124m\"\u001B[39m\u001B[38;5;124mis expecting \u001B[39m\u001B[38;5;132;01m{\u001B[39;00m\u001B[38;5;28mself\u001B[39m\u001B[38;5;241m.\u001B[39mn_features_in_\u001B[38;5;132;01m}\u001B[39;00m\u001B[38;5;124m features as input.\u001B[39m\u001B[38;5;124m\"\u001B[39m\n\u001B[0;32m    417\u001B[0m     )\n",
      "\u001B[1;31mValueError\u001B[0m: X has 53 features, but Ridge is expecting 52 features as input."
     ]
    }
   ],
   "execution_count": 121
  },
  {
   "metadata": {
    "ExecuteTime": {
     "end_time": "2025-04-01T11:59:57.551560100Z",
     "start_time": "2025-04-01T10:09:41.172233Z"
    }
   },
   "cell_type": "code",
   "source": [
    "df_ridge = pd.DataFrame({'Id': df_test['remainder__Id'], 'SalePrice': y_pred_ridge})\n",
    "df_ridge.to_csv('submission_ridge.csv', index=False)"
   ],
   "id": "15fd1b0fef4b023a",
   "outputs": [],
   "execution_count": 63
  },
  {
   "metadata": {
    "ExecuteTime": {
     "end_time": "2025-04-01T11:59:57.615209600Z",
     "start_time": "2025-04-01T10:09:41.355812Z"
    }
   },
   "cell_type": "code",
   "source": [
    "df_lasso = pd.DataFrame({'Id': df_test['remainder__Id'], 'SalePrice': y_pred_lasso})\n",
    "df_lasso.to_csv('submission_lasso.csv', index=False)"
   ],
   "id": "c9f37abb3f578129",
   "outputs": [],
   "execution_count": 64
  },
  {
   "metadata": {
    "ExecuteTime": {
     "end_time": "2025-04-01T11:59:57.708994100Z",
     "start_time": "2025-04-01T10:09:41.535901Z"
    }
   },
   "cell_type": "code",
   "source": "",
   "id": "27c3facecd2ee5aa",
   "outputs": [],
   "execution_count": null
  }
 ],
 "metadata": {
  "kernelspec": {
   "display_name": "Python 3",
   "language": "python",
   "name": "python3"
  },
  "language_info": {
   "codemirror_mode": {
    "name": "ipython",
    "version": 2
   },
   "file_extension": ".py",
   "mimetype": "text/x-python",
   "name": "python",
   "nbconvert_exporter": "python",
   "pygments_lexer": "ipython2",
   "version": "2.7.6"
  }
 },
 "nbformat": 4,
 "nbformat_minor": 5
}
